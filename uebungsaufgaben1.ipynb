{
 "cells": [
  {
   "cell_type": "markdown",
   "metadata": {
    "slideshow": {
     "slide_type": "slide"
    }
   },
   "source": [
    "# Übungsaufgaben 1\n",
    "\n",
    "Bitte schreibt euer Programm immer erst im Pseudo-Code, damit ihr euch zuerst auf die Funktion des Programms konzentrieren könnt, ohne euch von den Besonderheiten der Python-Syntax ablenken zu lassen."
   ]
  },
  {
   "cell_type": "code",
   "execution_count": null,
   "metadata": {
    "slideshow": {
     "slide_type": "slide"
    }
   },
   "outputs": [],
   "source": [
    "# Schreibe ein Programm, das eine Zahl einliest und prüft,\n",
    "# ob diese gerade oder ungerade ist.\n",
    "# Hinweis: Der Operator 'modulo' kann hier helfen.\n",
    "\n",
    "n = int(input('Bitte gib eine ganze Zahl ein: '))\n",
    "\n",
    "if n % 2 == 0:\n",
    "    print('Die Zahl ' + str(n) + ' ist gerade.')\n",
    "else:\n",
    "    print('Die Zahl ' + str(n) + ' ist ungerade.')"
   ]
  },
  {
   "cell_type": "code",
   "execution_count": null,
   "metadata": {
    "slideshow": {
     "slide_type": "slide"
    }
   },
   "outputs": [],
   "source": [
    "# Schreibe ein Programm, das eine Jahreszahl einliest und\n",
    "# für diese Jahreszahl prüft, ob dieses Jahr ein Schaltjahr\n",
    "# ist.\n",
    "# Hinweis zur Berechnung: https://www.umrechnung.org/zeit-datum-kalender/schaltjahr.htm\n",
    "\n",
    "# wenn durch 4 teilbar, dann ja\n",
    "# wenn durch 100, dann nicht\n",
    "# außer es ist durch 400 teilbar\n",
    "\n",
    "year = int(input('Bitte gib eine Jahreszahl ein: '))\n",
    "\n",
    "if year % 4 == 0:\n",
    "    if year % 100 == 0:\n",
    "        if year % 400 == 0:\n",
    "            print(year, 'ist ein Schaltjahr')\n",
    "        else:\n",
    "            print(year, 'ist kein Schaltjahr')\n",
    "    else:\n",
    "        print(year, 'ist ein Schaltjahr')\n",
    "else:\n",
    "    print(year, 'ist kein Schaltjahr')\n"
   ]
  },
  {
   "cell_type": "code",
   "execution_count": null,
   "metadata": {},
   "outputs": [],
   "source": [
    "# Einfacher noch, aber ohne den Effekt der geschachtelten Bedingungen\n",
    "\n",
    "year = int(input('Bitte gib eine Jahreszahl ein: '))\n",
    "\n",
    "if year % 4 == 0 and year % 100 != 0 or year % 400 == 0:\n",
    "    print(year, 'ist ein Schaltjahr')\n",
    "else:\n",
    "    print(year, 'ist kein Schaltjahr')"
   ]
  },
  {
   "cell_type": "code",
   "execution_count": null,
   "metadata": {
    "slideshow": {
     "slide_type": "slide"
    }
   },
   "outputs": [],
   "source": [
    "# Schreibe ein Programm, das das Volumen eines Kegels\n",
    "# bestimmt. Lies dazu den Radius der Grundfläche und\n",
    "# die Höhe des Kegels ein.\n",
    "# Hinweis: Das Volumen v berechnet sich aus Grundfläche * Höhe * 1/3\n",
    "\n",
    "PI = 21.991 / 7\n",
    "\n",
    "radius = float(input('Bitte gib den Radius der Grundfläche in cm des Kegels an: '))\n",
    "hoehe = float(input('Bitte gib die Höhe des Kegels in cm an: '))\n",
    "\n",
    "volumen = PI * radius**2 * hoehe / 3\n",
    "\n",
    "print('Das Volumen des Kegels beträgt ' + str(volumen) + ' cm^3')"
   ]
  },
  {
   "cell_type": "code",
   "execution_count": null,
   "metadata": {
    "slideshow": {
     "slide_type": "slide"
    }
   },
   "outputs": [],
   "source": [
    "# Schreibe ein Programm, das berechnet, wie viele Tage seit\n",
    "# einem gegebenen Datum vergangen sind. Lest dazu das Datum\n",
    "# in drei Werten (Jahr, Monat, Tag) ein. Ihr könnt das heutige\n",
    "# Datum als Referenz fest in das Programm schreiben.\n",
    "# Hinweis: Fangt erstmal klein an und wählt ein Datum in diesem\n",
    "# Monat und berechnet nur die Tage. Dann erweitert es bis hin\n",
    "# zu der Frage, ob ein vergangenes Jahr ein Schaltjahr war.\n",
    "\n",
    "# Ich erlaube mir mal, hier nicht die umständliche Lösung zu schreiben\n",
    "# die ohne Libraries etc. auskommt\n",
    "\n",
    "# Das datetime Modul findet ihr hier beschrieben: https://docs.python.org/3/library/datetime.html\n",
    "\n",
    "\n",
    "from datetime import date # So könnt ihr aus einem Modul einen bestimmten Aspekt importieren\n",
    "\n",
    "\n",
    "year = int(input('Bitte gib die Jahreszahl des Datums ein: '))\n",
    "month = int(input('Bitte gib den Monat des Datums ein: '))\n",
    "day = int(input('Bitte gib den Tag des Datums ein: '))\n",
    "\n",
    "\n",
    "given_date = date(year, month, day) # So bauen wir ein Datums-Objekt mit den übergebenen Werten auf\n",
    "today = date.today() # Diese Funktion liefert uns das aktuelle Datum\n",
    "\n",
    "delta = today - given_date # Hier berechnen wir die Differenz zwischen den beiden Daten\n",
    "\n",
    "if delta.days < 0:\n",
    "    print(f\"Es sind noch {delta.days * -1} Tage bis {date.strftime(given_date, '%d.%m.%Y')}\")\n",
    "else:\n",
    "    print(f\"Es sind {delta.days} Tage seit {date.strftime(given_date, '%d.%m.%Y')} vergangen\")\n",
    "        \n",
    "# Ihr könnt mit diesem kleinen Programm auch berechnen, wieviel Tage es noch\n",
    "# bis Weihnachten oder eurem Geburtstag sind\n"
   ]
  }
 ],
 "metadata": {
  "kernelspec": {
   "display_name": "Python 3",
   "language": "python",
   "name": "python3"
  },
  "language_info": {
   "codemirror_mode": {
    "name": "ipython",
    "version": 3
   },
   "file_extension": ".py",
   "mimetype": "text/x-python",
   "name": "python",
   "nbconvert_exporter": "python",
   "pygments_lexer": "ipython3",
   "version": "3.8.5"
  }
 },
 "nbformat": 4,
 "nbformat_minor": 4
}
