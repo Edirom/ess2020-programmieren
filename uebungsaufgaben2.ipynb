{
 "cells": [
  {
   "cell_type": "markdown",
   "metadata": {},
   "source": [
    "# Übungsaufgaben 2"
   ]
  },
  {
   "cell_type": "code",
   "execution_count": null,
   "metadata": {},
   "outputs": [],
   "source": [
    "# Wir wollen die durchschnittliche Anzahl Wörter in den Sätzen eines Texts berechnen\n",
    "# Der Text \"Geisterkneipe\" von Lukas Böhl liegt in der Datei \"geisterkneipe.txt\" vor\n",
    "# 1. Berechne die durchschnittliche Anzahl Wörter pro Satz in \"Geisterkneipe\"\n",
    "\n",
    "def read_content(filepath):\n",
    "    file = open(filepath)\n",
    "    text = file.read()\n",
    "    file.close()\n",
    "    return text\n",
    "\n",
    "def count_words(sentence):\n",
    "    words = sentence.split(' ')\n",
    "    return len(words)\n",
    "\n",
    "word_count_all = 0\n",
    "\n",
    "geisterkneipe = read_content('geisterkneipe.txt')\n",
    "geisterkneipe = geisterkneipe.split('\\n\\n')\n",
    "geisterkneipe = geisterkneipe[1]\n",
    "\n",
    "sentences = geisterkneipe.split('.')\n",
    "sentences.pop()\n",
    "\n",
    "for sentence in sentences:\n",
    "    word_count_all = word_count_all + count_words(sentence.strip())\n",
    "\n",
    "print(word_count_all / len(sentences))\n"
   ]
  },
  {
   "cell_type": "code",
   "execution_count": null,
   "metadata": {},
   "outputs": [],
   "source": [
    "import math\n",
    "\n",
    "math.pi\n"
   ]
  },
  {
   "cell_type": "code",
   "execution_count": null,
   "metadata": {},
   "outputs": [],
   "source": [
    "# 1. Wir wollen eine CSV-Datei mit Angaben zu Bildern in der Bodleian Library in Oxford einlesen\n",
    "# 2. Wir geben die URLs der Bilder aus (\"{url}full/{width},/0/default.jpg\")\n",
    "# 3. Wir laden die Bilder herunter und sehen sie uns an\n",
    "\n",
    "import csv\n",
    "import requests\n",
    "\n",
    "with open('image-urls.csv') as csvfile:\n",
    "    reader = csv.DictReader(csvfile)\n",
    "    \n",
    "    for row in reader:\n",
    "        width = row['width']\n",
    "        url = row['url']\n",
    "        label = row['label']\n",
    "        \n",
    "        img_url = f\"{url}full/{width},/0/default.jpg\"\n",
    "        \n",
    "        r = requests.get(img_url)\n",
    "        open('images/' + label + '.jpg', 'wb').write(r.content)\n",
    "        \n",
    "    "
   ]
  }
 ],
 "metadata": {
  "kernelspec": {
   "display_name": "Python 3",
   "language": "python",
   "name": "python3"
  },
  "language_info": {
   "codemirror_mode": {
    "name": "ipython",
    "version": 3
   },
   "file_extension": ".py",
   "mimetype": "text/x-python",
   "name": "python",
   "nbconvert_exporter": "python",
   "pygments_lexer": "ipython3",
   "version": "3.8.5"
  }
 },
 "nbformat": 4,
 "nbformat_minor": 4
}
